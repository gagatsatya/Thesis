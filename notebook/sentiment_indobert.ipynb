{
 "cells": [
  {
   "cell_type": "code",
   "execution_count": 1,
   "id": "9685687b-ce15-4d42-bb2a-9e76d03c53e1",
   "metadata": {},
   "outputs": [],
   "source": [
    "# !pip install transformers pandas torch"
   ]
  },
  {
   "cell_type": "code",
   "execution_count": 2,
   "id": "ffa747f0-9fca-4fd5-a077-3ef730e3c67e",
   "metadata": {},
   "outputs": [],
   "source": [
    "from transformers import AutoTokenizer, AutoModel\n",
    "import torch\n",
    "import torch.nn as nn\n",
    "import torch.optim as optim\n",
    "from torch.utils.data import Dataset, DataLoader\n",
    "import pandas as pd\n",
    "from tqdm import tqdm\n",
    "from torch.optim.lr_scheduler import StepLR"
   ]
  },
  {
   "cell_type": "code",
   "execution_count": 8,
   "id": "0b972e0d-541d-44fc-b2fd-5bcbf4f6c39c",
   "metadata": {},
   "outputs": [],
   "source": [
    "# Memuat dataset\n",
    "# df = pd.read_csv('news_with_sentiment_and_company.csv')\n",
    "df = pd.read_csv('combined_coba.csv')\n",
    "df['content'].fillna('', inplace=True)\n",
    "\n",
    "# Prepare IndoBERT tokenizer and model\n",
    "tokenizer = AutoTokenizer.from_pretrained(\"indobenchmark/indobert-base-p1\")\n",
    "\n",
    "class IndoBERTRegressionModel(nn.Module):\n",
    "    def __init__(self):\n",
    "        super(IndoBERTRegressionModel, self).__init__()\n",
    "        self.bert = AutoModel.from_pretrained(\"indobenchmark/indobert-base-p1\")\n",
    "        self.regressor = nn.Linear(self.bert.config.hidden_size, 1)  # Output layer untuk regresi\n",
    "\n",
    "    def forward(self, input_ids, attention_mask):\n",
    "        outputs = self.bert(input_ids=input_ids, attention_mask=attention_mask)\n",
    "        cls_output = outputs.last_hidden_state[:, 0, :]  # Ambil [CLS] token\n",
    "        regression_output = self.regressor(cls_output)\n",
    "        return regression_output\n",
    "\n",
    "# Dataset class untuk DataLoader\n",
    "class NewsDataset(Dataset):\n",
    "    def __init__(self, dataframe, tokenizer, max_length):\n",
    "        self.tokenizer = tokenizer\n",
    "        self.data = dataframe\n",
    "        self.max_length = max_length\n",
    "\n",
    "    def __len__(self):\n",
    "        return len(self.data)\n",
    "\n",
    "    def __getitem__(self, index):\n",
    "        text = self.data.loc[index, 'content']\n",
    "        sentiment = self.data.loc[index, 'predicted_sentiment']\n",
    "        inputs = self.tokenizer(text, max_length=self.max_length, padding='max_length', truncation=True, return_tensors=\"pt\")\n",
    "        input_ids = inputs['input_ids'].flatten()  # Flatten memastikan dimensi tetap konsisten\n",
    "        attention_mask = inputs['attention_mask'].flatten()\n",
    "        return {'input_ids': input_ids, 'attention_mask': attention_mask, 'predicted_sentiment': torch.tensor(sentiment, dtype=torch.float)}"
   ]
  },
  {
   "cell_type": "code",
   "execution_count": 12,
   "id": "ad0a118e-1ab5-4c98-88e2-bfd90dfb56a0",
   "metadata": {},
   "outputs": [
    {
     "name": "stderr",
     "output_type": "stream",
     "text": [
      "Training Epoch 1:   0%|                                                                         | 0/19 [00:00<?, ?it/s]C:\\Users\\raraslab\\anaconda3\\Lib\\site-packages\\transformers\\models\\bert\\modeling_bert.py:435: UserWarning: 1Torch was not compiled with flash attention. (Triggered internally at ..\\aten\\src\\ATen\\native\\transformers\\cuda\\sdp_utils.cpp:455.)\n",
      "  attn_output = torch.nn.functional.scaled_dot_product_attention(\n",
      "C:\\Users\\raraslab\\anaconda3\\Lib\\site-packages\\torch\\nn\\modules\\loss.py:535: UserWarning: Using a target size (torch.Size([16, 1])) that is different to the input size (torch.Size([16])). This will likely lead to incorrect results due to broadcasting. Please ensure they have the same size.\n",
      "  return F.mse_loss(input, target, reduction=self.reduction)\n",
      "Training Epoch 1:  95%|████████████████████████████████████████████████████████████▋   | 18/19 [00:04<00:00,  4.28it/s]C:\\Users\\raraslab\\anaconda3\\Lib\\site-packages\\torch\\nn\\modules\\loss.py:535: UserWarning: Using a target size (torch.Size([12, 1])) that is different to the input size (torch.Size([12])). This will likely lead to incorrect results due to broadcasting. Please ensure they have the same size.\n",
      "  return F.mse_loss(input, target, reduction=self.reduction)\n",
      "Training Epoch 1: 100%|████████████████████████████████████████████████████████████████| 19/19 [00:04<00:00,  4.02it/s]\n"
     ]
    },
    {
     "name": "stdout",
     "output_type": "stream",
     "text": [
      "Epoch 1 | Loss: 0.5836178619218501\n"
     ]
    },
    {
     "name": "stderr",
     "output_type": "stream",
     "text": [
      "Training Epoch 2: 100%|████████████████████████████████████████████████████████████████| 19/19 [00:04<00:00,  4.37it/s]\n"
     ]
    },
    {
     "name": "stdout",
     "output_type": "stream",
     "text": [
      "Epoch 2 | Loss: 0.09293353636013835\n"
     ]
    },
    {
     "name": "stderr",
     "output_type": "stream",
     "text": [
      "Training Epoch 3: 100%|████████████████████████████████████████████████████████████████| 19/19 [00:04<00:00,  4.34it/s]"
     ]
    },
    {
     "name": "stdout",
     "output_type": "stream",
     "text": [
      "Epoch 3 | Loss: 0.033996552719097385\n"
     ]
    },
    {
     "name": "stderr",
     "output_type": "stream",
     "text": [
      "\n"
     ]
    }
   ],
   "source": [
    "# Parameters\n",
    "max_length = 128\n",
    "batch_size = 16\n",
    "learning_rate = 2e-5\n",
    "num_epochs = 3\n",
    "\n",
    "# Dataset dan DataLoader\n",
    "train_dataset = NewsDataset(df, tokenizer, max_length)\n",
    "train_loader = DataLoader(train_dataset, batch_size=batch_size, shuffle=True)\n",
    "\n",
    "# Model, Loss, Optimizer\n",
    "model = IndoBERTRegressionModel()\n",
    "device = torch.device(\"cuda\" if torch.cuda.is_available() else \"cpu\")\n",
    "model.to(device)\n",
    "optimizer = optim.AdamW(model.parameters(), lr=learning_rate)\n",
    "criterion = nn.MSELoss()  # Loss function untuk regresi\n",
    "\n",
    "# Training loop\n",
    "# model.train()\n",
    "for epoch in range(num_epochs):\n",
    "    model.train()\n",
    "    total_loss = 0\n",
    "    for batch in tqdm(train_loader, desc=f\"Training Epoch {epoch+1}\"):\n",
    "        input_ids = batch['input_ids'].to(device)\n",
    "        attention_mask = batch['attention_mask'].to(device)\n",
    "        labels = batch['predicted_sentiment'].to(device).unsqueeze(1)\n",
    "\n",
    "        optimizer.zero_grad()\n",
    "        outputs = model(input_ids=input_ids, attention_mask=attention_mask)\n",
    "        outputs = outputs.view(-1)  # Ubah menjadi array 1D\n",
    "        loss = criterion(outputs, labels)\n",
    "        loss.backward()\n",
    "        optimizer.step()\n",
    "\n",
    "        total_loss += loss.item()\n",
    "\n",
    "    avg_loss = total_loss / len(train_loader)\n",
    "    print(f\"Epoch {epoch+1} | Loss: {avg_loss}\")"
   ]
  },
  {
   "cell_type": "code",
   "execution_count": 18,
   "id": "61692bb9-b171-4fac-bd96-6db1cc50976f",
   "metadata": {},
   "outputs": [
    {
     "name": "stdout",
     "output_type": "stream",
     "text": [
      "Evaluation Results:\n",
      "Mean Squared Error (MSE): 0.018667422235012054\n",
      "Root Mean Squared Error (RMSE): 0.13662877528182726\n",
      "Mean Absolute Error (MAE): 0.11100219935178757\n",
      "R-squared (R²): -1.200825529300214\n"
     ]
    }
   ],
   "source": [
    "from sklearn.metrics import mean_squared_error, mean_absolute_error, r2_score\n",
    "from math import sqrt\n",
    "\n",
    "# Evaluation function\n",
    "def evaluate_model(model, data_loader, device):\n",
    "    model.eval()  # Set model to evaluation mode\n",
    "    predictions = []\n",
    "    true_values = []\n",
    "\n",
    "    with torch.no_grad():  # Disable gradient calculation for inference\n",
    "        for batch in data_loader:\n",
    "            input_ids = batch['input_ids'].to(device)\n",
    "            attention_mask = batch['attention_mask'].to(device)\n",
    "            labels = batch['predicted_sentiment'].to(device)\n",
    "\n",
    "            # Get model predictions\n",
    "            outputs = model(input_ids=input_ids, attention_mask=attention_mask)\n",
    "            outputs = outputs.view(-1).cpu().numpy()  # Ensure outputs are 1D\n",
    "            labels = labels.cpu().numpy()  # Convert labels to numpy array\n",
    "\n",
    "            predictions.extend(outputs)\n",
    "            true_values.extend(labels)\n",
    "\n",
    "    # Calculate evaluation metrics\n",
    "    mse = mean_squared_error(true_values, predictions)\n",
    "    mae = mean_absolute_error(true_values, predictions)\n",
    "    r2 = r2_score(true_values, predictions)\n",
    "    rmse = sqrt(mse)  # Calculate RMSE\n",
    "\n",
    "    print(\"Evaluation Results:\")\n",
    "    print(f\"Mean Squared Error (MSE): {mse}\")\n",
    "    print(f\"Root Mean Squared Error (RMSE): {rmse}\")\n",
    "    print(f\"Mean Absolute Error (MAE): {mae}\")\n",
    "    print(f\"R-squared (R²): {r2}\")\n",
    "    return mse, mae, r2, rmse, true_values, predictions\n",
    "\n",
    "# Prepare data for evaluation\n",
    "eval_dataset = NewsDataset(df, tokenizer, max_length)  # Assuming using the same dataset for simplicity\n",
    "eval_loader = DataLoader(eval_dataset, batch_size=batch_size, shuffle=False)\n",
    "\n",
    "# Perform evaluation\n",
    "mse, mae, r2, rmse, true_values, predictions = evaluate_model(model, eval_loader, device)"
   ]
  },
  {
   "cell_type": "code",
   "execution_count": 13,
   "id": "5f5856bc-3276-4a8f-b4f1-0ab91d769854",
   "metadata": {},
   "outputs": [
    {
     "data": {
      "image/png": "[encoded data removed]",
      "text/plain": [
       "<Figure size 640x480 with 1 Axes>"
      ]
     },
     "metadata": {},
     "output_type": "display_data"
    }
   ],
   "source": [
    "import matplotlib.pyplot as plt\n",
    "\n",
    "# Plot prediksi vs nilai aktual\n",
    "plt.scatter(true_values, predictions, alpha=0.5)\n",
    "plt.xlabel(\"Actual Values\")\n",
    "plt.ylabel(\"Predicted Values\")\n",
    "plt.title(\"Prediction vs Actual\")\n",
    "plt.show()"
   ]
  },
  {
   "cell_type": "code",
   "execution_count": 15,
   "id": "3b131ce1-244b-4493-bda7-d8b683d898d6",
   "metadata": {},
   "outputs": [],
   "source": [
    "import torch\n",
    "\n",
    "# Simpan model IndoBERT\n",
    "model.bert.save_pretrained(\"indobert_regression_model_bca\")\n",
    "tokenizer.save_pretrained(\"indobert_regression_model_bca\")\n",
    "\n",
    "# Simpan seluruh model kustom (model IndoBERT + regressor layer)\n",
    "torch.save(model.state_dict(), \"indobert_regression_model_bca/full_model.pth\")"
   ]
  },
  {
   "cell_type": "code",
   "execution_count": 11,
   "id": "92140742-f805-4b67-808a-8ade7ecbce1a",
   "metadata": {},
   "outputs": [
    {
     "name": "stdout",
     "output_type": "stream",
     "text": [
      "                                               title  \\\n",
      "0  \\nLangkah BCA Sukseskan Pariwisata Sebagai Cor...   \n",
      "1  \\nBCA dan Bank Mandiri Angkat Suara soal M-Ban...   \n",
      "2  \\nNetizen Teriak! M-Banking BCA dan Bank Mandi...   \n",
      "3  \\nBCA Borong 26 Penghargaan di Ajang Contact C...   \n",
      "4  \\nAksi Heroik Polisi Malang Gagalkan Mahasiswa...   \n",
      "\n",
      "                               category        Date  \\\n",
      "0     \\r\\n           detikNews           2020-01-10   \n",
      "1  \\r\\n           detikFinance           2020-01-30   \n",
      "2  \\r\\n           detikFinance           2020-01-30   \n",
      "3     \\r\\n           detikNews           2020-02-04   \n",
      "4     \\r\\n           detikNews           2020-02-08   \n",
      "\n",
      "                                             content  \\\n",
      "0  Sebanyak 25 pemandu wisata outbond Desa Pentin...   \n",
      "1  Sejumlah nasabah pengguna layanan mobile banki...   \n",
      "2  Sejumlah orang mengeluhkan adanya eror pada la...   \n",
      "3  PT Bank Central Asia Tbk (BCA) melalui Halo BC...   \n",
      "4  Peristiwa terjadi Jumat (7/2/2020) siang. Saat...   \n",
      "\n",
      "                                  translated_content  sentiment  \n",
      "0  A total of 25 outbound tour guides of Pentings...   0.255398  \n",
      "1  Several customers using Bank Mandiri's mobile ...   0.026587  \n",
      "2  Several people complained about errors in the ...  -0.150000  \n",
      "3  PT Bank Central Asia Tbk (BCA) through Halo BC...   0.244028  \n",
      "4  The incident occurred on Friday (7/2/2020) aft...   0.120238  \n"
     ]
    }
   ],
   "source": [
    "# import pandas as pd\n",
    "# from sklearn.model_selection import train_test_split\n",
    "\n",
    "# # Memuat dataset\n",
    "# data = pd.read_csv('news_with_sentiment_and_company.csv')\n",
    "# data['content'].fillna('', inplace=True)\n",
    "\n",
    "# # Menampilkan beberapa baris pertama untuk memastikan data sudah benar\n",
    "# print(data.head())\n",
    "\n",
    "# # Bagi data menjadi train dan test set\n",
    "# train_data, test_data = train_test_split(data, test_size=0.2, random_state=42)\n"
   ]
  },
  {
   "cell_type": "code",
   "execution_count": 13,
   "id": "d0aff99e-148a-4f32-a328-d4217d7ec6a6",
   "metadata": {},
   "outputs": [
    {
     "name": "stderr",
     "output_type": "stream",
     "text": [
      "Some weights of BertForSequenceClassification were not initialized from the model checkpoint at indobenchmark/indobert-base-p1 and are newly initialized: ['classifier.bias', 'classifier.weight']\n",
      "You should probably TRAIN this model on a down-stream task to be able to use it for predictions and inference.\n"
     ]
    }
   ],
   "source": [
    "# from transformers import AutoTokenizer, AutoModelForSequenceClassification\n",
    "# import torch\n",
    "# from torch.utils.data import Dataset, DataLoader\n",
    "# from transformers import AdamW\n",
    "# from tqdm import tqdm\n",
    "# from sklearn.metrics import accuracy_score, classification_report\n",
    "\n",
    "# # Memuat tokenizer dan model IndoBERT\n",
    "# tokenizer = AutoTokenizer.from_pretrained(\"indobenchmark/indobert-base-p1\")\n",
    "# model = AutoModelForSequenceClassification.from_pretrained(\"indobenchmark/indobert-base-p1\", num_labels=3)"
   ]
  },
  {
   "cell_type": "code",
   "execution_count": 15,
   "id": "da384408-1ab0-4d4e-a7f0-5aca26ff5a4f",
   "metadata": {},
   "outputs": [],
   "source": [
    "# # Dataset\n",
    "# class SentimentDataset(Dataset):\n",
    "#     def __init__(self, data, tokenizer, max_length=128):\n",
    "#         self.data = data\n",
    "#         self.tokenizer = tokenizer\n",
    "#         self.max_length = max_length\n",
    "\n",
    "#     def __len__(self):\n",
    "#         return len(self.data)\n",
    "\n",
    "#     def __getitem__(self, index):\n",
    "#         row = self.data.iloc[index]\n",
    "#         text = row['content']\n",
    "#         label = int(row['sentiment']) + 1  # [-1, 0, 1] -> [0, 1, 2]\n",
    "        \n",
    "#         inputs = self.tokenizer(text, max_length=self.max_length, padding='max_length', truncation=True, return_tensors=\"pt\")\n",
    "#         inputs['labels'] = torch.tensor(label, dtype=torch.long)\n",
    "#         return inputs\n",
    "\n",
    "# # DataLoader\n",
    "# train_dataloader = DataLoader(SentimentDataset(train_data, tokenizer), batch_size=8, shuffle=True)\n",
    "# test_dataloader = DataLoader(SentimentDataset(test_data, tokenizer), batch_size=8)"
   ]
  },
  {
   "cell_type": "code",
   "execution_count": 17,
   "id": "6482a9e7-3d53-4021-a7bd-eaf6695121b5",
   "metadata": {},
   "outputs": [
    {
     "name": "stderr",
     "output_type": "stream",
     "text": [
      "C:\\Users\\raraslab\\anaconda3\\Lib\\site-packages\\transformers\\optimization.py:588: FutureWarning: This implementation of AdamW is deprecated and will be removed in a future version. Use the PyTorch implementation torch.optim.AdamW instead, or set `no_deprecation_warning=True` to disable this warning\n",
      "  warnings.warn(\n",
      "Training Epoch 1:   0%|                                                                         | 0/40 [00:00<?, ?it/s]C:\\Users\\raraslab\\anaconda3\\Lib\\site-packages\\transformers\\models\\bert\\modeling_bert.py:435: UserWarning: 1Torch was not compiled with flash attention. (Triggered internally at ..\\aten\\src\\ATen\\native\\transformers\\cuda\\sdp_utils.cpp:455.)\n",
      "  attn_output = torch.nn.functional.scaled_dot_product_attention(\n",
      "Training Epoch 1: 100%|████████████████████████████████████████████████████████████████| 40/40 [00:05<00:00,  7.19it/s]\n"
     ]
    },
    {
     "name": "stdout",
     "output_type": "stream",
     "text": [
      "Loss Epoch 1: 0.07425412120646797\n"
     ]
    },
    {
     "name": "stderr",
     "output_type": "stream",
     "text": [
      "Training Epoch 2: 100%|████████████████████████████████████████████████████████████████| 40/40 [00:05<00:00,  7.45it/s]\n"
     ]
    },
    {
     "name": "stdout",
     "output_type": "stream",
     "text": [
      "Loss Epoch 2: 0.001831390190636739\n"
     ]
    },
    {
     "name": "stderr",
     "output_type": "stream",
     "text": [
      "Training Epoch 3: 100%|████████████████████████████████████████████████████████████████| 40/40 [00:05<00:00,  7.52it/s]\n"
     ]
    },
    {
     "name": "stdout",
     "output_type": "stream",
     "text": [
      "Loss Epoch 3: 0.0011929923173738643\n"
     ]
    }
   ],
   "source": [
    "# # Optimizer\n",
    "# optimizer = AdamW(model.parameters(), lr=2e-5)\n",
    "\n",
    "# # Device\n",
    "# device = torch.device(\"cuda\" if torch.cuda.is_available() else \"cpu\")\n",
    "# model.to(device)\n",
    "\n",
    "# # Training Loop\n",
    "# epochs = 3\n",
    "# for epoch in range(epochs):\n",
    "#     model.train()\n",
    "#     total_loss = 0\n",
    "#     for batch in tqdm(train_dataloader, desc=f\"Training Epoch {epoch + 1}\"):\n",
    "#         input_ids = batch['input_ids'].to(device).view(-1, batch['input_ids'].size(-1))\n",
    "#         attention_mask = batch['attention_mask'].to(device).view(-1, batch['attention_mask'].size(-1))\n",
    "#         labels = batch['labels'].to(device)\n",
    "\n",
    "#         outputs = model(input_ids=input_ids, attention_mask=attention_mask, labels=labels)\n",
    "#         loss = outputs.loss\n",
    "#         total_loss += loss.item()\n",
    "\n",
    "#         optimizer.zero_grad()\n",
    "#         loss.backward()\n",
    "#         optimizer.step()\n",
    "\n",
    "#     print(f\"Loss Epoch {epoch + 1}: {total_loss / len(train_dataloader)}\")"
   ]
  },
  {
   "cell_type": "code",
   "execution_count": 21,
   "id": "dc27d6ef-1452-4dd0-b7e3-06a8bc88c52a",
   "metadata": {},
   "outputs": [
    {
     "name": "stderr",
     "output_type": "stream",
     "text": [
      "Evaluating: 100%|██████████████████████████████████████████████████████████████████████| 10/10 [00:00<00:00, 23.19it/s]"
     ]
    },
    {
     "name": "stdout",
     "output_type": "stream",
     "text": [
      "Akurasi: 100.00%\n"
     ]
    },
    {
     "name": "stderr",
     "output_type": "stream",
     "text": [
      "\n"
     ]
    }
   ],
   "source": [
    "# from sklearn.metrics import accuracy_score\n",
    "\n",
    "# model.eval()\n",
    "# predictions, true_labels = [], []\n",
    "\n",
    "# with torch.no_grad():\n",
    "#     for batch in tqdm(test_dataloader, desc=\"Evaluating\"):\n",
    "#         input_ids = batch['input_ids'].squeeze().to(device)\n",
    "#         attention_mask = batch['attention_mask'].squeeze().to(device)\n",
    "#         labels = batch['labels'].to(device)\n",
    "        \n",
    "#         outputs = model(input_ids=input_ids, attention_mask=attention_mask)\n",
    "#         logits = outputs.logits\n",
    "#         predictions.extend(torch.argmax(logits, axis=1).cpu().numpy())\n",
    "#         true_labels.extend(labels.cpu().numpy())\n",
    "\n",
    "# # Menghitung akurasi\n",
    "# accuracy = accuracy_score(true_labels, predictions)\n",
    "# print(f\"Akurasi: {accuracy * 100:.2f}%\")"
   ]
  },
  {
   "cell_type": "code",
   "execution_count": 23,
   "id": "dd4cb372-b479-4ddf-b01d-259aa9b7d101",
   "metadata": {},
   "outputs": [
    {
     "data": {
      "text/plain": [
       "('indobert_sentiment_model_bca\\\\tokenizer_config.json',\n",
       " 'indobert_sentiment_model_bca\\\\special_tokens_map.json',\n",
       " 'indobert_sentiment_model_bca\\\\vocab.txt',\n",
       " 'indobert_sentiment_model_bca\\\\added_tokens.json',\n",
       " 'indobert_sentiment_model_bca\\\\tokenizer.json')"
      ]
     },
     "execution_count": 23,
     "metadata": {},
     "output_type": "execute_result"
    }
   ],
   "source": [
    "# # Save model\n",
    "# model.save_pretrained(\"indobert_sentiment_model_bca\")\n",
    "# tokenizer.save_pretrained(\"indobert_sentiment_model_bca\")"
   ]
  },
  {
   "cell_type": "markdown",
   "id": "a2bf3df0-7ce2-4648-9dd2-c2af151a16b0",
   "metadata": {},
   "source": [
    "### Prediksi"
   ]
  },
  {
   "cell_type": "code",
   "execution_count": 2,
   "id": "6fa330bd-23f7-4d2c-a1f6-42d9afaad996",
   "metadata": {},
   "outputs": [
    {
     "data": {
      "text/plain": [
       "IndoBERTRegressionModel(\n",
       "  (bert): BertModel(\n",
       "    (embeddings): BertEmbeddings(\n",
       "      (word_embeddings): Embedding(50000, 768, padding_idx=0)\n",
       "      (position_embeddings): Embedding(512, 768)\n",
       "      (token_type_embeddings): Embedding(2, 768)\n",
       "      (LayerNorm): LayerNorm((768,), eps=1e-12, elementwise_affine=True)\n",
       "      (dropout): Dropout(p=0.1, inplace=False)\n",
       "    )\n",
       "    (encoder): BertEncoder(\n",
       "      (layer): ModuleList(\n",
       "        (0-11): 12 x BertLayer(\n",
       "          (attention): BertAttention(\n",
       "            (self): BertSdpaSelfAttention(\n",
       "              (query): Linear(in_features=768, out_features=768, bias=True)\n",
       "              (key): Linear(in_features=768, out_features=768, bias=True)\n",
       "              (value): Linear(in_features=768, out_features=768, bias=True)\n",
       "              (dropout): Dropout(p=0.1, inplace=False)\n",
       "            )\n",
       "            (output): BertSelfOutput(\n",
       "              (dense): Linear(in_features=768, out_features=768, bias=True)\n",
       "              (LayerNorm): LayerNorm((768,), eps=1e-12, elementwise_affine=True)\n",
       "              (dropout): Dropout(p=0.1, inplace=False)\n",
       "            )\n",
       "          )\n",
       "          (intermediate): BertIntermediate(\n",
       "            (dense): Linear(in_features=768, out_features=3072, bias=True)\n",
       "            (intermediate_act_fn): GELUActivation()\n",
       "          )\n",
       "          (output): BertOutput(\n",
       "            (dense): Linear(in_features=3072, out_features=768, bias=True)\n",
       "            (LayerNorm): LayerNorm((768,), eps=1e-12, elementwise_affine=True)\n",
       "            (dropout): Dropout(p=0.1, inplace=False)\n",
       "          )\n",
       "        )\n",
       "      )\n",
       "    )\n",
       "    (pooler): BertPooler(\n",
       "      (dense): Linear(in_features=768, out_features=768, bias=True)\n",
       "      (activation): Tanh()\n",
       "    )\n",
       "  )\n",
       "  (regressor): Linear(in_features=768, out_features=1, bias=True)\n",
       ")"
      ]
     },
     "execution_count": 2,
     "metadata": {},
     "output_type": "execute_result"
    }
   ],
   "source": [
    "import torch\n",
    "from transformers import AutoTokenizer, AutoModel\n",
    "import pandas as pd\n",
    "from torch.utils.data import DataLoader, Dataset\n",
    "from torch.nn.functional import mse_loss\n",
    "import numpy as np\n",
    "\n",
    "# Pastikan perangkat GPU digunakan jika tersedia\n",
    "device = torch.device(\"cuda\" if torch.cuda.is_available() else \"cpu\")\n",
    "\n",
    "# Load tokenizer dan model yang telah disimpan\n",
    "tokenizer = AutoTokenizer.from_pretrained(\"indobert_regression_model\")\n",
    "loaded_bert = AutoModel.from_pretrained(\"indobert_regression_model\")\n",
    "# tokenizer = AutoTokenizer.from_pretrained(\"indobert_regression_model_bca\")\n",
    "# loaded_bert = AutoModel.from_pretrained(\"indobert_regression_model_bca\")\n",
    "\n",
    "# Load model kustom dan state_dict\n",
    "class IndoBERTRegressionModel(torch.nn.Module):\n",
    "    def __init__(self):\n",
    "        super(IndoBERTRegressionModel, self).__init__()\n",
    "        self.bert = loaded_bert\n",
    "        self.regressor = torch.nn.Linear(self.bert.config.hidden_size, 1)\n",
    "\n",
    "    def forward(self, input_ids, attention_mask):\n",
    "        outputs = self.bert(input_ids=input_ids, attention_mask=attention_mask)\n",
    "        cls_output = outputs.last_hidden_state[:, 0, :]  # CLS token\n",
    "        sentiment_score = self.regressor(cls_output)\n",
    "        return sentiment_score\n",
    "\n",
    "# Inisialisasi model dan pindahkan ke perangkat yang digunakan\n",
    "model = IndoBERTRegressionModel()\n",
    "model.load_state_dict(torch.load(\"indobert_regression_model/full_model.pth\"))\n",
    "# model.load_state_dict(torch.load(\"indobert_regression_model_bca/full_model.pth\"))\n",
    "model.to(device)\n",
    "model.eval()  # Set model ke mode evaluasi"
   ]
  },
  {
   "cell_type": "code",
   "execution_count": 10,
   "id": "23e1d8e7-b33e-40b8-8b11-45aa10faecab",
   "metadata": {},
   "outputs": [],
   "source": [
    "# Dataset untuk prediksi\n",
    "class NewsDataset(Dataset):\n",
    "    def __init__(self, df, tokenizer, max_length=128):\n",
    "        self.df = df\n",
    "        self.tokenizer = tokenizer\n",
    "        self.max_length = max_length\n",
    "\n",
    "    def __len__(self):\n",
    "        return len(self.df)\n",
    "\n",
    "    def __getitem__(self, idx):\n",
    "        content = self.df.loc[idx, 'content']\n",
    "        inputs = self.tokenizer(\n",
    "            content,\n",
    "            max_length=self.max_length,\n",
    "            padding=\"max_length\",\n",
    "            truncation=True,\n",
    "            return_tensors=\"pt\"\n",
    "        )\n",
    "        input_ids = inputs['input_ids'].squeeze(0)\n",
    "        attention_mask = inputs['attention_mask'].squeeze(0)\n",
    "\n",
    "        return {\n",
    "            'input_ids': input_ids,\n",
    "            'attention_mask': attention_mask\n",
    "        }\n",
    "\n",
    "# Load data baru untuk prediksi\n",
    "# df_new = pd.read_csv(\"dataset_gabungan3.csv\")\n",
    "# df_new = pd.read_csv(\"sorted_articles_bca_fix.csv\")\n",
    "df_new = pd.read_csv(\"result_bank_bri_sorted.csv\")\n",
    "df_new['content'].fillna('', inplace=True)\n",
    "\n",
    "# Siapkan DataLoader\n",
    "new_dataset = NewsDataset(df_new, tokenizer, max_length=128)\n",
    "new_loader = DataLoader(new_dataset, batch_size=8, shuffle=False)\n",
    "\n",
    "# Fungsi untuk melakukan prediksi\n",
    "# def predict_sentiment(model, data_loader, device):\n",
    "#     model.eval()\n",
    "#     predictions = []\n",
    "\n",
    "#     with torch.no_grad():\n",
    "#         for batch in data_loader:\n",
    "#             input_ids = batch['input_ids'].to(device)\n",
    "#             attention_mask = batch['attention_mask'].to(device)\n",
    "\n",
    "#             outputs = model(input_ids=input_ids, attention_mask=attention_mask)\n",
    "#             outputs = outputs.squeeze().cpu().numpy()  # Mengubah hasil prediksi menjadi numpy array\n",
    "#             predictions.extend(outputs)\n",
    "\n",
    "#     return predictions\n",
    "\n",
    "def predict_sentiment(model, data_loader, device):\n",
    "    model.eval()\n",
    "    predictions = []\n",
    "\n",
    "    with torch.no_grad():\n",
    "        for batch in data_loader:\n",
    "            input_ids = batch['input_ids'].to(device)\n",
    "            attention_mask = batch['attention_mask'].to(device)\n",
    "\n",
    "            # Forward pass\n",
    "            outputs = model(input_ids=input_ids, attention_mask=attention_mask)\n",
    "\n",
    "            # Mengubah tensor menjadi numpy array dan meresapkan hasil\n",
    "            outputs = outputs.cpu().numpy()\n",
    "\n",
    "            # Pastikan array menjadi 1 dimensi sebelum extend\n",
    "            predictions.extend(outputs.flatten())  # Flatten akan menjaga prediksi tetap iterable\n",
    "\n",
    "    return predictions\n",
    "\n",
    "# Lakukan prediksi\n",
    "predicted_sentiments = predict_sentiment(model, new_loader, device)"
   ]
  },
  {
   "cell_type": "code",
   "execution_count": 12,
   "id": "d5390873-3c89-4707-aaee-19a5a746c482",
   "metadata": {},
   "outputs": [
    {
     "name": "stdout",
     "output_type": "stream",
     "text": [
      "Prediksi sentiment selesai. Hasil disimpan di 'news_with_predicted_sentiment.csv'\n"
     ]
    }
   ],
   "source": [
    "# Tambahkan hasil prediksi ke DataFrame dan simpan sebagai file baru\n",
    "df_new['predicted_sentiment'] = predicted_sentiments\n",
    "# df_new.to_csv(\"bca_news_with_predicted_sentiment3.csv\", index=False)\n",
    "df_new.to_csv(\"bri_news_with_predicted_sentiment2.csv\", index=False)\n",
    "\n",
    "print(\"Prediksi sentiment selesai. Hasil disimpan di 'news_with_predicted_sentiment.csv'\")"
   ]
  },
  {
   "cell_type": "code",
   "execution_count": 14,
   "id": "920daf03-71c4-4c29-bac3-de8b0e3253f4",
   "metadata": {},
   "outputs": [
    {
     "name": "stdout",
     "output_type": "stream",
     "text": [
      "[~] Average sentiment by date saved to mandiri_average_sentiment_by_date.csv\n"
     ]
    }
   ],
   "source": [
    "import pandas as pd\n",
    "\n",
    "def average_sentiment_by_date(input_file, output_file):\n",
    "    # Membaca file CSV yang sudah digabungkan\n",
    "    df = pd.read_csv(input_file)\n",
    "\n",
    "    # Mengonversi kolom 'Date' ke tipe datetime\n",
    "    df['Date'] = pd.to_datetime(df['Date'])\n",
    "\n",
    "    # Menghitung rata-rata skor sentimen untuk setiap tanggal\n",
    "    # Pastikan kolom 'sentiment' ada dalam DataFrame\n",
    "    average_df = df.groupby('Date', as_index=False)['predicted_sentiment'].mean()\n",
    "\n",
    "    # Menyimpan hasil ke file CSV baru dengan hanya dua kolom: 'Date' dan 'Sentiment'\n",
    "    average_df.columns = ['Date', 'Sentiment']  # Mengubah nama kolom\n",
    "    average_df.to_csv(output_file, index=False)\n",
    "    print(f\"[~] Average sentiment by date saved to {output_file}\")\n",
    "\n",
    "# Contoh penggunaan\n",
    "# average_sentiment_by_date(\"bca_news_with_predicted_sentiment2.csv\", \"bca_average_sentiment_by_date.csv\")\n",
    "average_sentiment_by_date(\"bri_news_with_predicted_sentiment2.csv\", \"mandiri_average_sentiment_by_date.csv\")"
   ]
  },
  {
   "cell_type": "code",
   "execution_count": null,
   "id": "baf8a97a-6bd5-43ed-ac08-356cc76e7313",
   "metadata": {},
   "outputs": [],
   "source": []
  }
 ],
 "metadata": {
  "kernelspec": {
   "display_name": "Python 3 (ipykernel)",
   "language": "python",
   "name": "python3"
  },
  "language_info": {
   "codemirror_mode": {
    "name": "ipython",
    "version": 3
   },
   "file_extension": ".py",
   "mimetype": "text/x-python",
   "name": "python",
   "nbconvert_exporter": "python",
   "pygments_lexer": "ipython3",
   "version": "3.11.7"
  }
 },
 "nbformat": 4,
 "nbformat_minor": 5
}
